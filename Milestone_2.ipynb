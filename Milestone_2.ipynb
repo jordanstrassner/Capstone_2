{
 "cells": [
  {
   "cell_type": "code",
   "execution_count": 1,
   "metadata": {},
   "outputs": [],
   "source": [
    "import pandas as pd\n",
    "import numpy as np\n",
    "import matplotlib.pyplot as plt\n",
    "from sklearn.model_selection import train_test_split\n",
    "from sklearn.linear_model import LogisticRegression\n",
    "from sklearn.feature_extraction.text import CountVectorizer"
   ]
  },
  {
   "cell_type": "code",
   "execution_count": 2,
   "metadata": {},
   "outputs": [
    {
     "data": {
      "text/html": [
       "<div>\n",
       "<style scoped>\n",
       "    .dataframe tbody tr th:only-of-type {\n",
       "        vertical-align: middle;\n",
       "    }\n",
       "\n",
       "    .dataframe tbody tr th {\n",
       "        vertical-align: top;\n",
       "    }\n",
       "\n",
       "    .dataframe thead th {\n",
       "        text-align: right;\n",
       "    }\n",
       "</style>\n",
       "<table border=\"1\" class=\"dataframe\">\n",
       "  <thead>\n",
       "    <tr style=\"text-align: right;\">\n",
       "      <th></th>\n",
       "      <th>country</th>\n",
       "      <th>description</th>\n",
       "      <th>points</th>\n",
       "      <th>price</th>\n",
       "      <th>province</th>\n",
       "      <th>title</th>\n",
       "      <th>variety</th>\n",
       "      <th>winery</th>\n",
       "      <th>quality</th>\n",
       "      <th>price_range</th>\n",
       "    </tr>\n",
       "  </thead>\n",
       "  <tbody>\n",
       "    <tr>\n",
       "      <td>1</td>\n",
       "      <td>Portugal</td>\n",
       "      <td>This is ripe and fruity, a wine that is smooth...</td>\n",
       "      <td>87</td>\n",
       "      <td>15.0</td>\n",
       "      <td>Douro</td>\n",
       "      <td>Quinta dos Avidagos 2011 Avidagos Red (Douro)</td>\n",
       "      <td>Portuguese Red</td>\n",
       "      <td>Quinta dos Avidagos</td>\n",
       "      <td>ok</td>\n",
       "      <td>1-30</td>\n",
       "    </tr>\n",
       "    <tr>\n",
       "      <td>2</td>\n",
       "      <td>US</td>\n",
       "      <td>Tart and snappy, the flavors of lime flesh and...</td>\n",
       "      <td>87</td>\n",
       "      <td>14.0</td>\n",
       "      <td>Oregon</td>\n",
       "      <td>Rainstorm 2013 Pinot Gris (Willamette Valley)</td>\n",
       "      <td>Pinot Gris</td>\n",
       "      <td>Rainstorm</td>\n",
       "      <td>ok</td>\n",
       "      <td>1-30</td>\n",
       "    </tr>\n",
       "    <tr>\n",
       "      <td>3</td>\n",
       "      <td>US</td>\n",
       "      <td>Pineapple rind, lemon pith and orange blossom ...</td>\n",
       "      <td>87</td>\n",
       "      <td>13.0</td>\n",
       "      <td>Michigan</td>\n",
       "      <td>St. Julian 2013 Reserve Late Harvest Riesling ...</td>\n",
       "      <td>Riesling</td>\n",
       "      <td>St. Julian</td>\n",
       "      <td>ok</td>\n",
       "      <td>1-30</td>\n",
       "    </tr>\n",
       "    <tr>\n",
       "      <td>4</td>\n",
       "      <td>US</td>\n",
       "      <td>Much like the regular bottling from 2012, this...</td>\n",
       "      <td>87</td>\n",
       "      <td>65.0</td>\n",
       "      <td>Oregon</td>\n",
       "      <td>Sweet Cheeks 2012 Vintner's Reserve Wild Child...</td>\n",
       "      <td>Pinot Noir</td>\n",
       "      <td>Sweet Cheeks</td>\n",
       "      <td>ok</td>\n",
       "      <td>61-100</td>\n",
       "    </tr>\n",
       "    <tr>\n",
       "      <td>15</td>\n",
       "      <td>Germany</td>\n",
       "      <td>Zesty orange peels and apple notes abound in t...</td>\n",
       "      <td>87</td>\n",
       "      <td>24.0</td>\n",
       "      <td>Mosel</td>\n",
       "      <td>Richard Böcking 2013 Devon Riesling (Mosel)</td>\n",
       "      <td>Riesling</td>\n",
       "      <td>Richard Böcking</td>\n",
       "      <td>ok</td>\n",
       "      <td>1-30</td>\n",
       "    </tr>\n",
       "  </tbody>\n",
       "</table>\n",
       "</div>"
      ],
      "text/plain": [
       "     country                                        description  points  \\\n",
       "1   Portugal  This is ripe and fruity, a wine that is smooth...      87   \n",
       "2         US  Tart and snappy, the flavors of lime flesh and...      87   \n",
       "3         US  Pineapple rind, lemon pith and orange blossom ...      87   \n",
       "4         US  Much like the regular bottling from 2012, this...      87   \n",
       "15   Germany  Zesty orange peels and apple notes abound in t...      87   \n",
       "\n",
       "    price  province                                              title  \\\n",
       "1    15.0     Douro      Quinta dos Avidagos 2011 Avidagos Red (Douro)   \n",
       "2    14.0    Oregon      Rainstorm 2013 Pinot Gris (Willamette Valley)   \n",
       "3    13.0  Michigan  St. Julian 2013 Reserve Late Harvest Riesling ...   \n",
       "4    65.0    Oregon  Sweet Cheeks 2012 Vintner's Reserve Wild Child...   \n",
       "15   24.0     Mosel        Richard Böcking 2013 Devon Riesling (Mosel)   \n",
       "\n",
       "           variety               winery quality price_range  \n",
       "1   Portuguese Red  Quinta dos Avidagos      ok        1-30  \n",
       "2       Pinot Gris            Rainstorm      ok        1-30  \n",
       "3         Riesling           St. Julian      ok        1-30  \n",
       "4       Pinot Noir         Sweet Cheeks      ok      61-100  \n",
       "15        Riesling      Richard Böcking      ok        1-30  "
      ]
     },
     "execution_count": 2,
     "metadata": {},
     "output_type": "execute_result"
    }
   ],
   "source": [
    "wine_df = pd.read_csv('clean_wine_df.csv', index_col=0)\n",
    "wine_df.head()"
   ]
  },
  {
   "cell_type": "code",
   "execution_count": 6,
   "metadata": {},
   "outputs": [],
   "source": [
    "vectorizer = CountVectorizer(lowercase=True, stop_words='english', max_features=1000)\n",
    "vector = vectorizer.fit_transform(np.array(wine_df.description))"
   ]
  },
  {
   "cell_type": "code",
   "execution_count": 7,
   "metadata": {},
   "outputs": [],
   "source": [
    "features = vector.todense()"
   ]
  },
  {
   "cell_type": "code",
   "execution_count": 36,
   "metadata": {},
   "outputs": [],
   "source": [
    "label = wine_df.quality"
   ]
  },
  {
   "cell_type": "code",
   "execution_count": 37,
   "metadata": {},
   "outputs": [],
   "source": [
    "X = features\n",
    "y = label\n",
    "X_train, X_test, y_train, y_test = train_test_split(X, y, test_size=0.2, random_state=42)"
   ]
  },
  {
   "cell_type": "code",
   "execution_count": 38,
   "metadata": {},
   "outputs": [
    {
     "name": "stderr",
     "output_type": "stream",
     "text": [
      "C:\\Users\\Jordan\\Anaconda3\\lib\\site-packages\\sklearn\\linear_model\\logistic.py:432: FutureWarning: Default solver will be changed to 'lbfgs' in 0.22. Specify a solver to silence this warning.\n",
      "  FutureWarning)\n",
      "C:\\Users\\Jordan\\Anaconda3\\lib\\site-packages\\sklearn\\linear_model\\logistic.py:469: FutureWarning: Default multi_class will be changed to 'auto' in 0.22. Specify the multi_class option to silence this warning.\n",
      "  \"this warning.\", FutureWarning)\n"
     ]
    }
   ],
   "source": [
    "log_reg = LogisticRegression()\n",
    "m = log_reg.fit(X_train, y_train)"
   ]
  },
  {
   "cell_type": "code",
   "execution_count": 39,
   "metadata": {},
   "outputs": [
    {
     "name": "stdout",
     "output_type": "stream",
     "text": [
      "0.7057466585250017\n"
     ]
    }
   ],
   "source": [
    "accuracy = m.score(X_test, y_test)\n",
    "print(accuracy)"
   ]
  },
  {
   "cell_type": "code",
   "execution_count": 40,
   "metadata": {},
   "outputs": [
    {
     "name": "stdout",
     "output_type": "stream",
     "text": [
      "country                                                 Portugal\n",
      "description    This is ripe and fruity, a wine that is smooth...\n",
      "points                                                        87\n",
      "price                                                         15\n",
      "province                                                   Douro\n",
      "title              Quinta dos Avidagos 2011 Avidagos Red (Douro)\n",
      "variety                                           Portuguese Red\n",
      "winery                                       Quinta dos Avidagos\n",
      "quality                                                       ok\n",
      "price_range                                                 1-30\n",
      "Name: 1, dtype: object\n"
     ]
    },
    {
     "data": {
      "text/html": [
       "<div>\n",
       "<style scoped>\n",
       "    .dataframe tbody tr th:only-of-type {\n",
       "        vertical-align: middle;\n",
       "    }\n",
       "\n",
       "    .dataframe tbody tr th {\n",
       "        vertical-align: top;\n",
       "    }\n",
       "\n",
       "    .dataframe thead th {\n",
       "        text-align: right;\n",
       "    }\n",
       "</style>\n",
       "<table border=\"1\" class=\"dataframe\">\n",
       "  <thead>\n",
       "    <tr style=\"text-align: right;\">\n",
       "      <th></th>\n",
       "      <th>0</th>\n",
       "    </tr>\n",
       "  </thead>\n",
       "  <tbody>\n",
       "    <tr>\n",
       "      <td>ok</td>\n",
       "      <td>0.733140</td>\n",
       "    </tr>\n",
       "    <tr>\n",
       "      <td>good</td>\n",
       "      <td>0.205695</td>\n",
       "    </tr>\n",
       "    <tr>\n",
       "      <td>bad</td>\n",
       "      <td>0.060781</td>\n",
       "    </tr>\n",
       "    <tr>\n",
       "      <td>great</td>\n",
       "      <td>0.000384</td>\n",
       "    </tr>\n",
       "  </tbody>\n",
       "</table>\n",
       "</div>"
      ],
      "text/plain": [
       "              0\n",
       "ok     0.733140\n",
       "good   0.205695\n",
       "bad    0.060781\n",
       "great  0.000384"
      ]
     },
     "execution_count": 40,
     "metadata": {},
     "output_type": "execute_result"
    }
   ],
   "source": [
    "x = vectorizer.transform(np.array([wine_df.description.iloc[0]]))\n",
    "proba = m.predict_proba(x)\n",
    "classes = m.classes_\n",
    "pred_df = pd.DataFrame(data=proba, columns=classes)\n",
    "pred = pred_df.T.sort_values(by=[0], ascending=False)\n",
    "print(wine_df.iloc[0])\n",
    "pred.head()"
   ]
  },
  {
   "cell_type": "code",
   "execution_count": 41,
   "metadata": {},
   "outputs": [
    {
     "name": "stderr",
     "output_type": "stream",
     "text": [
      "C:\\Users\\Jordan\\Anaconda3\\lib\\site-packages\\sklearn\\linear_model\\logistic.py:432: FutureWarning: Default solver will be changed to 'lbfgs' in 0.22. Specify a solver to silence this warning.\n",
      "  FutureWarning)\n",
      "C:\\Users\\Jordan\\Anaconda3\\lib\\site-packages\\sklearn\\linear_model\\logistic.py:469: FutureWarning: Default multi_class will be changed to 'auto' in 0.22. Specify the multi_class option to silence this warning.\n",
      "  \"this warning.\", FutureWarning)\n"
     ]
    },
    {
     "name": "stdout",
     "output_type": "stream",
     "text": [
      "0.6825429133591153\n"
     ]
    }
   ],
   "source": [
    "label = wine_df.variety\n",
    "X = features\n",
    "y = label\n",
    "X_train, X_test, y_train, y_test = train_test_split(X, y, test_size=0.2, random_state=42)\n",
    "log_reg = LogisticRegression()\n",
    "m = log_reg.fit(X_train, y_train)\n",
    "accuracy = m.score(X_test, y_test)\n",
    "print(accuracy)"
   ]
  },
  {
   "cell_type": "code",
   "execution_count": 42,
   "metadata": {},
   "outputs": [
    {
     "name": "stdout",
     "output_type": "stream",
     "text": [
      "country                                                 Portugal\n",
      "description    This is ripe and fruity, a wine that is smooth...\n",
      "points                                                        87\n",
      "price                                                         15\n",
      "province                                                   Douro\n",
      "title              Quinta dos Avidagos 2011 Avidagos Red (Douro)\n",
      "variety                                           Portuguese Red\n",
      "winery                                       Quinta dos Avidagos\n",
      "quality                                                       ok\n",
      "price_range                                                 1-30\n",
      "Name: 1, dtype: object\n"
     ]
    },
    {
     "data": {
      "text/html": [
       "<div>\n",
       "<style scoped>\n",
       "    .dataframe tbody tr th:only-of-type {\n",
       "        vertical-align: middle;\n",
       "    }\n",
       "\n",
       "    .dataframe tbody tr th {\n",
       "        vertical-align: top;\n",
       "    }\n",
       "\n",
       "    .dataframe thead th {\n",
       "        text-align: right;\n",
       "    }\n",
       "</style>\n",
       "<table border=\"1\" class=\"dataframe\">\n",
       "  <thead>\n",
       "    <tr style=\"text-align: right;\">\n",
       "      <th></th>\n",
       "      <th>0</th>\n",
       "    </tr>\n",
       "  </thead>\n",
       "  <tbody>\n",
       "    <tr>\n",
       "      <td>Portuguese Red</td>\n",
       "      <td>0.486436</td>\n",
       "    </tr>\n",
       "    <tr>\n",
       "      <td>Bordeaux-style Red Blend</td>\n",
       "      <td>0.348712</td>\n",
       "    </tr>\n",
       "    <tr>\n",
       "      <td>Pinot Noir</td>\n",
       "      <td>0.044834</td>\n",
       "    </tr>\n",
       "    <tr>\n",
       "      <td>Red Blend</td>\n",
       "      <td>0.042183</td>\n",
       "    </tr>\n",
       "    <tr>\n",
       "      <td>Malbec</td>\n",
       "      <td>0.025380</td>\n",
       "    </tr>\n",
       "  </tbody>\n",
       "</table>\n",
       "</div>"
      ],
      "text/plain": [
       "                                 0\n",
       "Portuguese Red            0.486436\n",
       "Bordeaux-style Red Blend  0.348712\n",
       "Pinot Noir                0.044834\n",
       "Red Blend                 0.042183\n",
       "Malbec                    0.025380"
      ]
     },
     "execution_count": 42,
     "metadata": {},
     "output_type": "execute_result"
    }
   ],
   "source": [
    "x = vectorizer.transform(np.array([wine_df.description.iloc[0]]))\n",
    "proba = m.predict_proba(x)\n",
    "classes = m.classes_\n",
    "pred_df = pd.DataFrame(data=proba, columns=classes)\n",
    "pred = pred_df.T.sort_values(by=[0], ascending=False)\n",
    "print(wine_df.iloc[0])\n",
    "pred.head()"
   ]
  },
  {
   "cell_type": "code",
   "execution_count": 46,
   "metadata": {},
   "outputs": [],
   "source": [
    "from sklearn.feature_extraction.text import TfidfVectorizer\n",
    "from sklearn.metrics.pairwise import linear_kernel"
   ]
  },
  {
   "cell_type": "code",
   "execution_count": 55,
   "metadata": {},
   "outputs": [
    {
     "name": "stdout",
     "output_type": "stream",
     "text": [
      "(73691, 11)\n"
     ]
    },
    {
     "data": {
      "text/plain": [
       "73691"
      ]
     },
     "execution_count": 55,
     "metadata": {},
     "output_type": "execute_result"
    }
   ],
   "source": [
    "wine_df['wine_id'] = wine_df['title'].astype('category').cat.codes\n",
    "print(wine_df.shape)\n",
    "wine_df.wine_id.nunique()"
   ]
  },
  {
   "cell_type": "code",
   "execution_count": 61,
   "metadata": {},
   "outputs": [],
   "source": [
    "train, test = train_test_split(wine_df, train_size=0.05)\n",
    "train.reset_index(drop=True, inplace=True)"
   ]
  },
  {
   "cell_type": "code",
   "execution_count": 62,
   "metadata": {},
   "outputs": [],
   "source": [
    "tf = TfidfVectorizer(analyzer='word', ngram_range=(1, 3), min_df = 0, stop_words = 'english')\n",
    "tf_matrix = tf.fit_transform(train.description)"
   ]
  },
  {
   "cell_type": "code",
   "execution_count": 63,
   "metadata": {},
   "outputs": [],
   "source": [
    "cos_sim = linear_kernel(tf_matrix, tf_matrix)"
   ]
  },
  {
   "cell_type": "code",
   "execution_count": 64,
   "metadata": {},
   "outputs": [],
   "source": [
    "pred_dict = {}\n",
    "for idx, row in train.iterrows():\n",
    "    sim_idx = cos_sim[idx].argsort()[:100:-1]\n",
    "    sim_items = [(cos_sim[idx][i], train.wine_id[i]) for i in sim_idx]\n",
    "    pred_dict[row['wine_id']] = sim_items[1:]"
   ]
  },
  {
   "cell_type": "code",
   "execution_count": 69,
   "metadata": {},
   "outputs": [],
   "source": [
    "def get_title(id):\n",
    "    return train.loc[train.wine_id == id].title.tolist()[0].split(' - ')[0]\n",
    "\n",
    "def get_recommendation(title_id, num):\n",
    "    print('Top ' + str(num) + ' recommendations for ' + get_title(title_id) + ':\\n')\n",
    "    recs = pred_dict[title_id][:num]\n",
    "    for rec in recs:\n",
    "        print(get_title(rec[1]) + ': score = ' + f'{rec[0]:.2f}')"
   ]
  },
  {
   "cell_type": "code",
   "execution_count": 92,
   "metadata": {},
   "outputs": [
    {
     "name": "stdout",
     "output_type": "stream",
     "text": [
      "Top 8 recommendations for H. Abrantes Douro Wines 2011 Vargosa Red (Douro):\n",
      "\n",
      "Château Beaulieu 2011 Château Beaulieu Rosé (Coteaux d'Aix-en-Provence): score = 0.05\n",
      "Maison des 3 Ponts 2014 Lepontis Sauvignon Blanc (Charentais): score = 0.04\n",
      "Sineann 2012 Red (Oregon): score = 0.04\n",
      "Château Gauthier 2015  Blaye Côtes de Bordeaux: score = 0.04\n",
      "Olivier Leflaive 2012 Abbaye de Morgeot Premier Cru  (Chassagne-Montrachet): score = 0.04\n",
      "Kastania 2012 Jaden and Keira's Cuvée Pinot Noir (Sonoma Coast): score = 0.04\n",
      "Louis Sipp NV Brut Sparkling (Crémant d'Alsace): score = 0.04\n",
      "Château Troplong Mondot 2007  Saint-Émilion: score = 0.04\n"
     ]
    }
   ],
   "source": [
    "test_id = train.loc[:, 'wine_id'].values[23]\n",
    "test_title = train.loc[train.wine_id == test_id, 'title'].values[0]\n",
    "\n",
    "get_recommendation(test_id, 8)"
   ]
  },
  {
   "cell_type": "code",
   "execution_count": 94,
   "metadata": {},
   "outputs": [],
   "source": [
    "from sklearn.neighbors import NearestNeighbors\n",
    "from scipy.sparse import csr_matrix"
   ]
  },
  {
   "cell_type": "code",
   "execution_count": 114,
   "metadata": {},
   "outputs": [
    {
     "name": "stderr",
     "output_type": "stream",
     "text": [
      "C:\\Users\\Jordan\\Anaconda3\\lib\\site-packages\\ipykernel_launcher.py:4: SettingWithCopyWarning: \n",
      "A value is trying to be set on a copy of a slice from a DataFrame\n",
      "\n",
      "See the caveats in the documentation: http://pandas.pydata.org/pandas-docs/stable/user_guide/indexing.html#returning-a-view-versus-a-copy\n",
      "  after removing the cwd from sys.path.\n"
     ]
    }
   ],
   "source": [
    "col = ['province', 'variety', 'points', 'price']\n",
    "\n",
    "temp_df = wine_df[col]\n",
    "temp_df.drop_duplicates(['province', 'variety'], inplace=True)\n",
    "wine_pivot = temp_df.pivot(index = 'variety', columns = 'province', values=['points', 'price']).fillna(0)\n",
    "pivot_matrix = csr_matrix(wine_pivot)"
   ]
  },
  {
   "cell_type": "code",
   "execution_count": 115,
   "metadata": {},
   "outputs": [],
   "source": [
    "knn = NearestNeighbors(n_neighbors = 10, algorithm = 'brute', metric = 'cosine')\n",
    "m_knn = knn.fit(pivot_matrix)"
   ]
  },
  {
   "cell_type": "code",
   "execution_count": 121,
   "metadata": {},
   "outputs": [
    {
     "name": "stdout",
     "output_type": "stream",
     "text": [
      "Top recommendations for Nebbiolo\n",
      "1 Sangiovese with distance 0.5203008843908599\n",
      "2 Tempranillo with distance 0.6931693010858284\n",
      "3 Sparkling Blend with distance 0.709833663795427\n",
      "4 Red Blend with distance 0.7737772438890955\n",
      "5 Zinfandel with distance 0.7767075492995374\n",
      "6 White Blend with distance 0.7806166873152927\n",
      "7 Chardonnay with distance 0.7929535435480267\n",
      "8 Malbec with distance 0.806316613795247\n",
      "9 Pinot Gris with distance 0.8148184280321505\n"
     ]
    }
   ],
   "source": [
    "rand_idx = np.random.choice(wine_pivot.shape[0])\n",
    "dist, idx = m_knn.kneighbors(wine_pivot.iloc[rand_idx, :].values.reshape(1, -1), n_neighbors = 10)\n",
    "\n",
    "for i in range(0, len(dist.flatten())):\n",
    "    if i == 0:\n",
    "        print('Top recommendations for ' + wine_pivot.index[rand_idx])\n",
    "    else:\n",
    "        print(str(i) + ' ' + wine_pivot.index[idx.flatten()[i]] + ' with distance ' + str(dist.flatten()[i]))"
   ]
  },
  {
   "cell_type": "code",
   "execution_count": null,
   "metadata": {},
   "outputs": [],
   "source": []
  },
  {
   "cell_type": "code",
   "execution_count": null,
   "metadata": {},
   "outputs": [],
   "source": []
  },
  {
   "cell_type": "code",
   "execution_count": null,
   "metadata": {},
   "outputs": [],
   "source": []
  }
 ],
 "metadata": {
  "kernelspec": {
   "display_name": "Python 3",
   "language": "python",
   "name": "python3"
  },
  "language_info": {
   "codemirror_mode": {
    "name": "ipython",
    "version": 3
   },
   "file_extension": ".py",
   "mimetype": "text/x-python",
   "name": "python",
   "nbconvert_exporter": "python",
   "pygments_lexer": "ipython3",
   "version": "3.7.4"
  }
 },
 "nbformat": 4,
 "nbformat_minor": 2
}
